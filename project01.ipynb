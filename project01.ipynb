{
 "cells": [
  {
   "cell_type": "code",
   "execution_count": null,
   "metadata": {},
   "outputs": [],
   "source": [
    "import numpy as np #numerical operations\n",
    "import pandas as pd #data manipulation\n",
    "import matplotlib.pyplot as plt #visualizations\n",
    "import tensorflow as tf # provides the deep learning framework and Keras API\n",
    "\n",
    "keras = tf.keras\n",
    "layers = keras.layers #layers of NN - contains the building blocks for neural networks\n",
    "Tokenizer = keras.preprocessing.text.Tokenizer #to encode the tweets - convert text into numerical sequences\n",
    "\n",
    "from sklearn.metrics import classification_report, confusion_matrix # Evaluation with confusion matrix and classification report\n",
    "import seaborn as sns\n"
   ]
  },
  {
   "cell_type": "code",
   "execution_count": 38,
   "metadata": {},
   "outputs": [
    {
     "data": {
      "text/html": [
       "<div>\n",
       "<style scoped>\n",
       "    .dataframe tbody tr th:only-of-type {\n",
       "        vertical-align: middle;\n",
       "    }\n",
       "\n",
       "    .dataframe tbody tr th {\n",
       "        vertical-align: top;\n",
       "    }\n",
       "\n",
       "    .dataframe thead th {\n",
       "        text-align: right;\n",
       "    }\n",
       "</style>\n",
       "<table border=\"1\" class=\"dataframe\">\n",
       "  <thead>\n",
       "    <tr style=\"text-align: right;\">\n",
       "      <th></th>\n",
       "      <th>Unnamed: 0</th>\n",
       "      <th>count</th>\n",
       "      <th>hate_speech</th>\n",
       "      <th>offensive_language</th>\n",
       "      <th>neither</th>\n",
       "      <th>class</th>\n",
       "      <th>tweet</th>\n",
       "    </tr>\n",
       "  </thead>\n",
       "  <tbody>\n",
       "    <tr>\n",
       "      <th>0</th>\n",
       "      <td>0</td>\n",
       "      <td>3</td>\n",
       "      <td>0</td>\n",
       "      <td>0</td>\n",
       "      <td>3</td>\n",
       "      <td>2</td>\n",
       "      <td>!!! RT @mayasolovely: As a woman you shouldn't...</td>\n",
       "    </tr>\n",
       "    <tr>\n",
       "      <th>1</th>\n",
       "      <td>1</td>\n",
       "      <td>3</td>\n",
       "      <td>0</td>\n",
       "      <td>3</td>\n",
       "      <td>0</td>\n",
       "      <td>1</td>\n",
       "      <td>!!!!! RT @mleew17: boy dats cold...tyga dwn ba...</td>\n",
       "    </tr>\n",
       "    <tr>\n",
       "      <th>2</th>\n",
       "      <td>2</td>\n",
       "      <td>3</td>\n",
       "      <td>0</td>\n",
       "      <td>3</td>\n",
       "      <td>0</td>\n",
       "      <td>1</td>\n",
       "      <td>!!!!!!! RT @UrKindOfBrand Dawg!!!! RT @80sbaby...</td>\n",
       "    </tr>\n",
       "    <tr>\n",
       "      <th>3</th>\n",
       "      <td>3</td>\n",
       "      <td>3</td>\n",
       "      <td>0</td>\n",
       "      <td>2</td>\n",
       "      <td>1</td>\n",
       "      <td>1</td>\n",
       "      <td>!!!!!!!!! RT @C_G_Anderson: @viva_based she lo...</td>\n",
       "    </tr>\n",
       "    <tr>\n",
       "      <th>4</th>\n",
       "      <td>4</td>\n",
       "      <td>6</td>\n",
       "      <td>0</td>\n",
       "      <td>6</td>\n",
       "      <td>0</td>\n",
       "      <td>1</td>\n",
       "      <td>!!!!!!!!!!!!! RT @ShenikaRoberts: The shit you...</td>\n",
       "    </tr>\n",
       "  </tbody>\n",
       "</table>\n",
       "</div>"
      ],
      "text/plain": [
       "   Unnamed: 0  count  hate_speech  offensive_language  neither  class  \\\n",
       "0           0      3            0                   0        3      2   \n",
       "1           1      3            0                   3        0      1   \n",
       "2           2      3            0                   3        0      1   \n",
       "3           3      3            0                   2        1      1   \n",
       "4           4      6            0                   6        0      1   \n",
       "\n",
       "                                               tweet  \n",
       "0  !!! RT @mayasolovely: As a woman you shouldn't...  \n",
       "1  !!!!! RT @mleew17: boy dats cold...tyga dwn ba...  \n",
       "2  !!!!!!! RT @UrKindOfBrand Dawg!!!! RT @80sbaby...  \n",
       "3  !!!!!!!!! RT @C_G_Anderson: @viva_based she lo...  \n",
       "4  !!!!!!!!!!!!! RT @ShenikaRoberts: The shit you...  "
      ]
     },
     "execution_count": 38,
     "metadata": {},
     "output_type": "execute_result"
    }
   ],
   "source": [
    "dset = pd.read_csv(r'C:/Users/user/Documents/Final Year Research/codespace/dataset/labeled_data.csv')\n",
    "dset.head()\n"
   ]
  },
  {
   "cell_type": "markdown",
   "metadata": {},
   "source": [
    "There are 24,783 samples in this dataset and the tweets are labeled into hate statement, offensive language and neither\n",
    "classes\n",
    "*  0- hate speech\n",
    "*  1- offensive\n",
    "*  2- neutral"
   ]
  },
  {
   "cell_type": "markdown",
   "metadata": {},
   "source": [
    "### preprocessing"
   ]
  },
  {
   "cell_type": "code",
   "execution_count": 39,
   "metadata": {},
   "outputs": [
    {
     "data": {
      "text/html": [
       "<div>\n",
       "<style scoped>\n",
       "    .dataframe tbody tr th:only-of-type {\n",
       "        vertical-align: middle;\n",
       "    }\n",
       "\n",
       "    .dataframe tbody tr th {\n",
       "        vertical-align: top;\n",
       "    }\n",
       "\n",
       "    .dataframe thead th {\n",
       "        text-align: right;\n",
       "    }\n",
       "</style>\n",
       "<table border=\"1\" class=\"dataframe\">\n",
       "  <thead>\n",
       "    <tr style=\"text-align: right;\">\n",
       "      <th></th>\n",
       "      <th>class</th>\n",
       "      <th>tweet</th>\n",
       "    </tr>\n",
       "  </thead>\n",
       "  <tbody>\n",
       "    <tr>\n",
       "      <th>0</th>\n",
       "      <td>2</td>\n",
       "      <td>!!! RT @mayasolovely: As a woman you shouldn't...</td>\n",
       "    </tr>\n",
       "    <tr>\n",
       "      <th>1</th>\n",
       "      <td>1</td>\n",
       "      <td>!!!!! RT @mleew17: boy dats cold...tyga dwn ba...</td>\n",
       "    </tr>\n",
       "    <tr>\n",
       "      <th>2</th>\n",
       "      <td>1</td>\n",
       "      <td>!!!!!!! RT @UrKindOfBrand Dawg!!!! RT @80sbaby...</td>\n",
       "    </tr>\n",
       "    <tr>\n",
       "      <th>3</th>\n",
       "      <td>1</td>\n",
       "      <td>!!!!!!!!! RT @C_G_Anderson: @viva_based she lo...</td>\n",
       "    </tr>\n",
       "    <tr>\n",
       "      <th>4</th>\n",
       "      <td>1</td>\n",
       "      <td>!!!!!!!!!!!!! RT @ShenikaRoberts: The shit you...</td>\n",
       "    </tr>\n",
       "  </tbody>\n",
       "</table>\n",
       "</div>"
      ],
      "text/plain": [
       "   class                                              tweet\n",
       "0      2  !!! RT @mayasolovely: As a woman you shouldn't...\n",
       "1      1  !!!!! RT @mleew17: boy dats cold...tyga dwn ba...\n",
       "2      1  !!!!!!! RT @UrKindOfBrand Dawg!!!! RT @80sbaby...\n",
       "3      1  !!!!!!!!! RT @C_G_Anderson: @viva_based she lo...\n",
       "4      1  !!!!!!!!!!!!! RT @ShenikaRoberts: The shit you..."
      ]
     },
     "execution_count": 39,
     "metadata": {},
     "output_type": "execute_result"
    }
   ],
   "source": [
    "dset = dset.drop(dset.columns[:5], axis=1) #removing the first 5 columns\n",
    "dset.head()"
   ]
  },
  {
   "cell_type": "code",
   "execution_count": 40,
   "metadata": {},
   "outputs": [],
   "source": [
    "feature_columns = ['hate_speech','offensive', 'neutral'] # creates a list of category labels"
   ]
  },
  {
   "cell_type": "code",
   "execution_count": 41,
   "metadata": {},
   "outputs": [],
   "source": [
    "# split the dataset\n",
    "num_rows = len(dset.index)\n",
    "train_set = round(num_rows*0.8) # 80% - training, 20% testing\n",
    "train_set\n",
    "\n",
    "train_ft = dset[0:train_set] \n",
    "test_ft = dset[train_set:]"
   ]
  },
  {
   "cell_type": "code",
   "execution_count": 42,
   "metadata": {},
   "outputs": [],
   "source": [
    "train_labels=train_ft.pop('class') # Removes the class column from the dataset and saves it separately\n",
    "test_labels= test_ft.pop('class')"
   ]
  },
  {
   "cell_type": "markdown",
   "metadata": {},
   "source": [
    " We want to give the model inputs (tweets) and the actual outputs (labels) separately so it can learn the connection."
   ]
  },
  {
   "cell_type": "code",
   "execution_count": 43,
   "metadata": {},
   "outputs": [
    {
     "name": "stdout",
     "output_type": "stream",
     "text": [
      "(19826, 1)\n",
      "(19826,)\n",
      "(4957, 1)\n",
      "(4957,)\n"
     ]
    }
   ],
   "source": [
    "print(train_ft.shape) # confirm everything is sized and matched properly\n",
    "print(train_labels.shape)\n",
    "print(test_ft.shape)\n",
    "print(test_labels.shape)"
   ]
  },
  {
   "cell_type": "markdown",
   "metadata": {},
   "source": [
    "### encoding words\n",
    "transform tweets into integer arrays for training"
   ]
  },
  {
   "cell_type": "code",
   "execution_count": null,
   "metadata": {},
   "outputs": [
    {
     "data": {
      "text/plain": [
       "32752"
      ]
     },
     "execution_count": 44,
     "metadata": {},
     "output_type": "execute_result"
    }
   ],
   "source": [
    "padding_type = 'pre' # we make all tweets the same length\n",
    "max_len = 60  # words per tweet\n",
    "trun_type = 'post' # If a tweet is too long, extra words will be cut from the end\n",
    "oov_token = '<oov>' # out of vocab - This replaces unknown words/ out-of-vocabularies with a special token \"<oov>\".\n",
    "\n",
    "tokenizer = Tokenizer(oov_token=oov_token) # Creates a tokenizer object to convert words into numbers.\n",
    "tokenizer.fit_on_texts(train_ft['tweet']) # Learns all the unique words in the tweets and assigns them an indexes\n",
    "\n",
    "vocab_size = len(tokenizer.word_index) + 1 # add 1 to fix out of bound index error\n",
    "vocab_size\n",
    "#tokenizer.word_index"
   ]
  },
  {
   "cell_type": "markdown",
   "metadata": {},
   "source": [
    "* padding_type = 'pre': make all tweets the same length, shorter ones will get zeros added to the beginning.\n",
    "* max_len = 60: All tweets will be trimmed or padded to 60 words.\n",
    "* trun_type = 'post':Truncate -  If a tweet is too long, extra words will be cut from the end\n",
    "* oov_token = 'oov': This replaces unknown words/ out-of-vocabulary with a special token \"oov\"\n",
    "\n",
    " Machine learning models don’t understand text. This converts each tweet into a series of numbers."
   ]
  },
  {
   "cell_type": "code",
   "execution_count": null,
   "metadata": {},
   "outputs": [],
   "source": [
    "#convert Lables - panda df into numpy array \n",
    "\n",
    "train_labels = np.array(train_labels)\n",
    "test_labels = np.array(test_labels)\n",
    "\n",
    "# pass the array for 3 classes\n",
    "train_labels = keras.utils.to_categorical(train_labels,3)\n",
    "test_labels = keras.utils.to_categorical(test_labels,3)\n"
   ]
  },
  {
   "cell_type": "markdown",
   "metadata": {},
   "source": [
    "* Neural networks in Keras/TensorFlow expect inputs as NumPy arrays and Converting ensures compatibility with TensorFlow operations\n",
    "\n",
    "* These lines convert integer class labels into one-hot encoded vectors, which is required for training a neural network with categorical cross-entropy loss in multi-class classification\n",
    "* One-hot encoding ensures the loss is computed correctly\n",
    "\n",
    "* helps to Understand the classification task & Calculate loss during training"
   ]
  },
  {
   "cell_type": "code",
   "execution_count": null,
   "metadata": {},
   "outputs": [],
   "source": [
    "# encode tweets to sequences -convert raw text tweets into numerical sequences that a neural network can process \n",
    "# using the tokenizer object created before\n",
    "train_ft_seq = tokenizer.texts_to_sequences(train_ft['tweet'])\n",
    "test_ft_seq = tokenizer.texts_to_sequences(test_ft['tweet'])"
   ]
  },
  {
   "cell_type": "markdown",
   "metadata": {},
   "source": [
    "padding the array"
   ]
  },
  {
   "cell_type": "code",
   "execution_count": 47,
   "metadata": {},
   "outputs": [],
   "source": [
    "# ensure all input sequences have the same length (max_len=60) by adding padding (empty tokens) where needed\n",
    "train_ft_seq = keras.utils.pad_sequences(train_ft_seq, max_len, padding=padding_type)\n",
    "test_ft_seq = keras.utils.pad_sequences(test_ft_seq, max_len, padding=padding_type)"
   ]
  },
  {
   "cell_type": "markdown",
   "metadata": {},
   "source": [
    "* This step is essential to prepare text data for deep learning models\n",
    "* Neural networks require fixed-length inputs\n",
    "* Padding standardizes all sequences to max_len=60 words"
   ]
  },
  {
   "cell_type": "code",
   "execution_count": null,
   "metadata": {},
   "outputs": [
    {
     "data": {
      "text/plain": [
       "(4957, 60)"
      ]
     },
     "execution_count": 48,
     "metadata": {},
     "output_type": "execute_result"
    }
   ],
   "source": [
    "# Converts the padded training sequences into a NumPy array. to ensures consistent format before feeding into the model\n",
    "train_ft_seq = np.array(train_ft_seq)\n",
    "test_ft_seq = np.array(test_ft_seq)\n",
    "test_ft_seq.shape"
   ]
  },
  {
   "cell_type": "markdown",
   "metadata": {},
   "source": [
    "### data model building"
   ]
  },
  {
   "cell_type": "code",
   "execution_count": 49,
   "metadata": {},
   "outputs": [],
   "source": [
    "num_of_classes = len(feature_columns)\n",
    "\n",
    "model = keras.Sequential([\n",
    "    keras.layers.Embedding(vocab_size, 32, input_length=max_len),\n",
    "    keras.layers.Bidirectional(keras.layers.LSTM(32)),\n",
    "    keras.layers.Dense(num_of_classes, activation='softmax')\n",
    "])\n",
    "model.build(input_shape=(None, max_len))  "
   ]
  },
  {
   "cell_type": "markdown",
   "metadata": {},
   "source": [
    "Sequential model in Keras is a linear stack of layers, where each layer has one input and one output.\n",
    "* embedding layer - This layer helps the model learn semantic relationships between words\n",
    "* bidirectional layer - Improves model’s understanding of the full context of a sentence, really important in language tasks\n",
    "* dense layer - gives the probability distribution across the three target classes, so the model can predict the most likely category"
   ]
  },
  {
   "cell_type": "code",
   "execution_count": null,
   "metadata": {},
   "outputs": [],
   "source": [
    "# configure/compile the model before training. \n",
    "model.compile(optimizer='adam', loss='categorical_crossentropy', metrics=['accuracy'])\n"
   ]
  },
  {
   "cell_type": "markdown",
   "metadata": {},
   "source": [
    "* It sets up how the model should update weights, calculate error, and report performance.\n",
    "* Adam (Adaptive Moment Estimation). It adjusts the learning rate automatically during training\n",
    "* loss function is used to measure how far the model’s predictions are from the actual labels\n",
    "* accuracy to track the accuracy of the model during training"
   ]
  },
  {
   "cell_type": "code",
   "execution_count": 51,
   "metadata": {},
   "outputs": [
    {
     "name": "stdout",
     "output_type": "stream",
     "text": [
      "Model: \"sequential_1\"\n",
      "_________________________________________________________________\n",
      " Layer (type)                Output Shape              Param #   \n",
      "=================================================================\n",
      " embedding_1 (Embedding)     (None, 60, 32)            1048064   \n",
      "                                                                 \n",
      " bidirectional_1 (Bidirecti  (None, 64)                16640     \n",
      " onal)                                                           \n",
      "                                                                 \n",
      " dense_1 (Dense)             (None, 3)                 195       \n",
      "                                                                 \n",
      "=================================================================\n",
      "Total params: 1064899 (4.06 MB)\n",
      "Trainable params: 1064899 (4.06 MB)\n",
      "Non-trainable params: 0 (0.00 Byte)\n",
      "_________________________________________________________________\n"
     ]
    }
   ],
   "source": [
    "model.summary()"
   ]
  },
  {
   "cell_type": "markdown",
   "metadata": {},
   "source": [
    "* Transforms text into learnable input -> Learns sequence patterns -> Outputs class probabilities"
   ]
  },
  {
   "cell_type": "code",
   "execution_count": 52,
   "metadata": {},
   "outputs": [
    {
     "name": "stdout",
     "output_type": "stream",
     "text": [
      "Epoch 1/10\n",
      "620/620 - 24s - loss: 0.4495 - accuracy: 0.8463 - 24s/epoch - 39ms/step\n",
      "Epoch 2/10\n",
      "620/620 - 22s - loss: 0.2415 - accuracy: 0.9172 - 22s/epoch - 35ms/step\n",
      "Epoch 3/10\n",
      "620/620 - 21s - loss: 0.1391 - accuracy: 0.9517 - 21s/epoch - 33ms/step\n",
      "Epoch 4/10\n",
      "620/620 - 21s - loss: 0.0775 - accuracy: 0.9742 - 21s/epoch - 33ms/step\n",
      "Epoch 5/10\n",
      "620/620 - 21s - loss: 0.0447 - accuracy: 0.9864 - 21s/epoch - 33ms/step\n",
      "Epoch 6/10\n",
      "620/620 - 21s - loss: 0.0284 - accuracy: 0.9911 - 21s/epoch - 34ms/step\n",
      "Epoch 7/10\n",
      "620/620 - 21s - loss: 0.0211 - accuracy: 0.9938 - 21s/epoch - 34ms/step\n",
      "Epoch 8/10\n",
      "620/620 - 21s - loss: 0.0170 - accuracy: 0.9949 - 21s/epoch - 35ms/step\n",
      "Epoch 9/10\n",
      "620/620 - 21s - loss: 0.0151 - accuracy: 0.9953 - 21s/epoch - 34ms/step\n",
      "Epoch 10/10\n",
      "620/620 - 21s - loss: 0.0107 - accuracy: 0.9968 - 21s/epoch - 34ms/step\n"
     ]
    }
   ],
   "source": [
    "# train the neural network model using the prepared training data\n",
    "history = model.fit(train_ft_seq, train_labels, epochs=10, verbose=2)"
   ]
  },
  {
   "cell_type": "code",
   "execution_count": 53,
   "metadata": {},
   "outputs": [
    {
     "data": {
      "text/plain": [
       "0.9968223571777344"
      ]
     },
     "execution_count": 53,
     "metadata": {},
     "output_type": "execute_result"
    }
   ],
   "source": [
    "history.history['accuracy'][-1]"
   ]
  },
  {
   "cell_type": "code",
   "execution_count": null,
   "metadata": {},
   "outputs": [
    {
     "name": "stderr",
     "output_type": "stream",
     "text": [
      "C:\\Users\\user\\AppData\\Local\\Temp\\ipykernel_18180\\1554956228.py:7: UserWarning: No artists with labels found to put in legend.  Note that artists whose label start with an underscore are ignored when legend() is called with no argument.\n",
      "  plt.legend(loc='best')\n"
     ]
    },
    {
     "data": {
      "image/png": "[encoded data removed]",
      "text/plain": [
       "<Figure size 640x480 with 1 Axes>"
      ]
     },
     "metadata": {},
     "output_type": "display_data"
    },
    {
     "name": "stderr",
     "output_type": "stream",
     "text": [
      "C:\\Users\\user\\AppData\\Local\\Temp\\ipykernel_18180\\1554956228.py:16: UserWarning: No artists with labels found to put in legend.  Note that artists whose label start with an underscore are ignored when legend() is called with no argument.\n",
      "  plt.legend(loc='best')\n"
     ]
    },
    {
     "data": {
      "image/png": "[encoded data removed]",
      "text/plain": [
       "<Figure size 640x480 with 1 Axes>"
      ]
     },
     "metadata": {},
     "output_type": "display_data"
    }
   ],
   "source": [
    "#Training & loss curves\n",
    "# Accuracy\n",
    "plt.figure()\n",
    "plt.plot(history.history['accuracy'])\n",
    "plt.xlabel('Epoch')\n",
    "plt.ylabel('Accuracy')\n",
    "plt.legend(loc='best')\n",
    "plt.title('Training Accuracy')\n",
    "plt.show()\n",
    "\n",
    "# Loss\n",
    "plt.figure()\n",
    "plt.plot(history.history['loss'])\n",
    "plt.xlabel('Epoch')\n",
    "plt.ylabel('Loss')\n",
    "plt.legend(loc='best')\n",
    "plt.title('Training Loss')\n",
    "plt.show()"
   ]
  },
  {
   "cell_type": "code",
   "execution_count": 55,
   "metadata": {},
   "outputs": [
    {
     "name": "stderr",
     "output_type": "stream",
     "text": [
      "c:\\Users\\user\\AppData\\Local\\Programs\\Python\\Python310\\lib\\site-packages\\keras\\src\\engine\\training.py:3103: UserWarning: You are saving your model as an HDF5 file via `model.save()`. This file format is considered legacy. We recommend using instead the native Keras format, e.g. `model.save('my_model.keras')`.\n",
      "  saving_api.save_model(\n"
     ]
    }
   ],
   "source": [
    "model.save('Keras_Hatespeech_model.h5')  # Save the model in HDF5 format"
   ]
  },
  {
   "cell_type": "code",
   "execution_count": 56,
   "metadata": {},
   "outputs": [
    {
     "name": "stdout",
     "output_type": "stream",
     "text": [
      "155/155 [==============================] - 2s 8ms/step\n"
     ]
    }
   ],
   "source": [
    "# Tokenize and pad the test tweets\n",
    "test_sequences = tokenizer.texts_to_sequences(test_ft['tweet'])\n",
    "test_padded = keras.utils.pad_sequences(test_sequences, padding='pre', truncating='post', maxlen=60)\n",
    "\n",
    "# Predict on the full test set\n",
    "pred_test = model.predict(test_padded)\n",
    "\n",
    "pred_test_classes = np.argmax(pred_test, axis=1)\n",
    "true_test_classes = np.argmax(test_labels, axis=1)"
   ]
  },
  {
   "cell_type": "code",
   "execution_count": 57,
   "metadata": {},
   "outputs": [
    {
     "data": {
      "image/png": "[encoded data removed]",
      "text/plain": [
       "<Figure size 600x500 with 2 Axes>"
      ]
     },
     "metadata": {},
     "output_type": "display_data"
    }
   ],
   "source": [
    "# Compute confusion matrix\n",
    "cm = confusion_matrix(true_test_classes, pred_test_classes)\n",
    "\n",
    "# Plot confusion matrix\n",
    "plt.figure(figsize=(6, 5))\n",
    "sns.heatmap(cm, annot=True, fmt='d', cmap='Blues', xticklabels=feature_columns, yticklabels=feature_columns)\n",
    "plt.xlabel('Predicted')\n",
    "plt.ylabel('Actual')\n",
    "plt.title('Confusion Matrix')\n",
    "plt.show()"
   ]
  },
  {
   "cell_type": "code",
   "execution_count": 58,
   "metadata": {},
   "outputs": [
    {
     "name": "stdout",
     "output_type": "stream",
     "text": [
      "\n",
      "Classification Report:\n",
      "              precision    recall  f1-score   support\n",
      "\n",
      " hate_speech       0.27      0.30      0.28       234\n",
      "   offensive       0.93      0.92      0.93      3928\n",
      "     neutral       0.80      0.80      0.80       795\n",
      "\n",
      "    accuracy                           0.87      4957\n",
      "   macro avg       0.67      0.67      0.67      4957\n",
      "weighted avg       0.88      0.87      0.87      4957\n",
      "\n"
     ]
    }
   ],
   "source": [
    "print(\"\\nClassification Report:\")\n",
    "print(classification_report(true_test_classes, pred_test_classes, target_names=feature_columns))\n"
   ]
  },
  {
   "cell_type": "markdown",
   "metadata": {},
   "source": [
    "### predict a comment "
   ]
  },
  {
   "cell_type": "markdown",
   "metadata": {},
   "source": [
    "To demonstrate real-time applicability, here added stand-alone inference pipeline to\n",
    "show real-time applicability."
   ]
  },
  {
   "cell_type": "code",
   "execution_count": 59,
   "metadata": {},
   "outputs": [],
   "source": [
    "import json\n",
    "\n",
    "with open('hate_comment_detection.json','w') as file:\n",
    "    json.dump(tokenizer.word_index, file)"
   ]
  },
  {
   "cell_type": "code",
   "execution_count": 60,
   "metadata": {},
   "outputs": [],
   "source": [
    "with open('hate_comment_detection.json','r') as file:\n",
    "    data = json.load(file)\n",
    "\n",
    "word_index = dict(data)"
   ]
  },
  {
   "cell_type": "code",
   "execution_count": 61,
   "metadata": {},
   "outputs": [],
   "source": [
    "#random_tweet = 'I love you'\n",
    "random_tweet = 'I really wanna kill you'\n",
    "#random_tweet = 'just die. you whore'\n",
    "\n",
    "oov_token = '<oov>'\n",
    "\n",
    "tokenizer = Tokenizer(oov_token=oov_token)\n",
    "tokenizer.word_index = word_index\n",
    "encoded = tokenizer.texts_to_sequences([random_tweet])\n",
    "encoded = keras.utils.pad_sequences(encoded, padding='pre', truncating='post',maxlen=60)\n"
   ]
  },
  {
   "cell_type": "code",
   "execution_count": 62,
   "metadata": {},
   "outputs": [
    {
     "name": "stdout",
     "output_type": "stream",
     "text": [
      "1/1 [==============================] - 0s 34ms/step\n"
     ]
    }
   ],
   "source": [
    "pred_new = model.predict(encoded)"
   ]
  },
  {
   "cell_type": "code",
   "execution_count": 63,
   "metadata": {},
   "outputs": [
    {
     "name": "stdout",
     "output_type": "stream",
     "text": [
      "Predicted probabilities: [0.5475154 0.2270443 0.2254403]\n",
      "Highest confidence score: 0.5475154\n",
      "Predicted class index: 0\n",
      "Predicted class label: hate_speech\n"
     ]
    }
   ],
   "source": [
    "print(\"Predicted probabilities:\", pred_new[0])\n",
    "print(\"Highest confidence score:\", np.max(pred_new[0]))\n",
    "print(\"Predicted class index:\", np.argmax(pred_new[0]))\n",
    "print(\"Predicted class label:\", feature_columns[np.argmax(pred_new[0])])\n"
   ]
  }
 ],
 "metadata": {
  "kernelspec": {
   "display_name": "Python 3",
   "language": "python",
   "name": "python3"
  },
  "language_info": {
   "codemirror_mode": {
    "name": "ipython",
    "version": 3
   },
   "file_extension": ".py",
   "mimetype": "text/x-python",
   "name": "python",
   "nbconvert_exporter": "python",
   "pygments_lexer": "ipython3",
   "version": "3.10.11"
  }
 },
 "nbformat": 4,
 "nbformat_minor": 2
}
